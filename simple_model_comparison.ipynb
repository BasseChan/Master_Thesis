{
 "cells": [
  {
   "cell_type": "markdown",
   "id": "446ab281",
   "metadata": {},
   "source": [
    "# Generowanie danych testowych"
   ]
  },
  {
   "cell_type": "code",
   "execution_count": 1,
   "id": "a1f5f1ae",
   "metadata": {},
   "outputs": [
    {
     "name": "stderr",
     "output_type": "stream",
     "text": [
      "100%|██████████| 1000/1000 [00:09<00:00, 106.07it/s]\n"
     ]
    }
   ],
   "source": [
    "from src.prepare_datasets import prepare_2_mix_dataset\n",
    "\n",
    "prepare_2_mix_dataset('data/2mix', 5, 10, 4, 8, n=1000, sr=16000, seed=42)"
   ]
  },
  {
   "cell_type": "markdown",
   "id": "f5900ff0",
   "metadata": {},
   "source": [
    "# Przetwarzanie przez modele"
   ]
  },
  {
   "cell_type": "code",
   "execution_count": 1,
   "id": "45dd9e49",
   "metadata": {},
   "outputs": [],
   "source": [
    "import librosa\n",
    "import torch\n",
    "import numpy as np\n",
    "from scipy.io.wavfile import write\n",
    "from tqdm import tqdm\n",
    "import time\n",
    "import os\n",
    "\n",
    "from src.metrics import get_SI_SDR"
   ]
  },
  {
   "cell_type": "code",
   "execution_count": 4,
   "id": "9192e2c8",
   "metadata": {},
   "outputs": [],
   "source": [
    "def match_size(ref_wav, gen_wav):\n",
    "    if len(ref_wav) > len(gen_wav):\n",
    "        gen_wav = np.pad(gen_wav, (0, len(ref_wav) - len(gen_wav)), 'constant')\n",
    "    elif len(ref_wav) < len(gen_wav):\n",
    "        gen_wav = gen_wav[:len(ref_wav)]\n",
    "    return gen_wav"
   ]
  },
  {
   "cell_type": "code",
   "execution_count": 3,
   "id": "0717a202",
   "metadata": {},
   "outputs": [],
   "source": [
    "def split_with_function(model, split_function, n=1000, sr=16000):\n",
    "    times = []\n",
    "    os.makedirs(f'data/2mix/{model}/speaker1', exist_ok=True)\n",
    "    os.makedirs(f'data/2mix/{model}/speaker2', exist_ok=True)\n",
    "    for i in tqdm(range(n)):\n",
    "        mixed = librosa.load(f'data/2mix/mixed/{i}.wav', sr=sr)[0]\n",
    "        ref1 = librosa.load(f'data/2mix/speaker1/{i}.wav', sr=sr)[0]\n",
    "        ref2 = librosa.load(f'data/2mix/speaker2/{i}.wav', sr=sr)[0]\n",
    "\n",
    "        start = time.perf_counter()\n",
    "        speaker1, speaker2 = split_function(mixed)\n",
    "        end = time.perf_counter()\n",
    "\n",
    "        times.append(end - start)\n",
    "\n",
    "        speaker1 = speaker1 / np.max(np.abs(speaker1))\n",
    "        speaker2 = speaker2 / np.max(np.abs(speaker2))\n",
    "        spk1 = match_size(ref1, speaker1)\n",
    "        spk2 = match_size(ref2, speaker2)\n",
    "        sdr1_1 = get_SI_SDR(ref1, spk1)\n",
    "        sdr1_2 = get_SI_SDR(ref2, spk2)\n",
    "        sdr2_1 = get_SI_SDR(ref1, spk2)\n",
    "        sdr2_2 = get_SI_SDR(ref2, spk1)\n",
    "        if sdr1_1 + sdr1_2 < sdr2_1 + sdr2_2:\n",
    "            speaker1, speaker2 = speaker2, speaker1\n",
    "        write(f'data/2mix/{model}/speaker1/{i}.wav', sr, speaker1)\n",
    "        write(f'data/2mix/{model}/speaker2/{i}.wav', sr, speaker2)\n",
    "    \n",
    "    return np.mean(times)"
   ]
  },
  {
   "cell_type": "markdown",
   "id": "723c507d",
   "metadata": {},
   "source": [
    "### Mossformer2"
   ]
  },
  {
   "cell_type": "code",
   "execution_count": 7,
   "id": "05216c4b",
   "metadata": {},
   "outputs": [
    {
     "name": "stderr",
     "output_type": "stream",
     "text": [
      "c:\\Studia\\Master_Thesis\\src/mossformer2\\utils.py:10: FutureWarning: You are using `torch.load` with `weights_only=False` (the current default value), which uses the default pickle module implicitly. It is possible to construct malicious pickle data which will execute arbitrary code during unpickling (See https://github.com/pytorch/pytorch/blob/main/SECURITY.md#untrusted-models for more details). In a future release, the default value for `weights_only` will be flipped to `True`. This limits the functions that could be executed during unpickling. Arbitrary objects will no longer be allowed to be loaded via this mode unless they are explicitly allowlisted by the user via `torch.serialization.add_safe_globals`. We recommend you start setting `weights_only=True` for any use case where you don't have full control of the loaded file. Please open an issue on GitHub for any issues related to this experimental feature.\n",
      "  checkpoint = torch.load(\n"
     ]
    }
   ],
   "source": [
    "import sys\n",
    "sys.path.append('src/mossformer2')\n",
    "\n",
    "from src.mossformer2.mossformer2 import MossFormer2_adapted\n",
    "\n",
    "mossformer_16 = MossFormer2_adapted('src/mossformer2/checkpoints')"
   ]
  },
  {
   "cell_type": "code",
   "execution_count": 8,
   "id": "2a6061bf",
   "metadata": {},
   "outputs": [],
   "source": [
    "def split_with_mossformer2(input):\n",
    "    spk1, spk2 = mossformer_16(np.array([input]))\n",
    "    return spk1, spk2"
   ]
  },
  {
   "cell_type": "code",
   "execution_count": 9,
   "id": "901e2775",
   "metadata": {},
   "outputs": [
    {
     "name": "stderr",
     "output_type": "stream",
     "text": [
      "100%|██████████| 1000/1000 [30:34<00:00,  1.83s/it]\n"
     ]
    }
   ],
   "source": [
    "mossformer2_time = split_with_function('mossformer2', split_with_mossformer2, n=1000, sr=16000)"
   ]
  },
  {
   "cell_type": "code",
   "execution_count": 10,
   "id": "f0f28f7a",
   "metadata": {},
   "outputs": [
    {
     "name": "stdout",
     "output_type": "stream",
     "text": [
      "Mossformer2 time: 1.809367655600101\n"
     ]
    }
   ],
   "source": [
    "print(f'Mossformer2 time: {mossformer2_time}')"
   ]
  },
  {
   "cell_type": "markdown",
   "id": "da9c95c2",
   "metadata": {},
   "source": [
    "### Sepreformer"
   ]
  },
  {
   "cell_type": "code",
   "execution_count": 4,
   "id": "05dac4ca",
   "metadata": {},
   "outputs": [],
   "source": [
    "from src.sepreformer.sepreformer import SepReformer\n",
    "sepreformer = SepReformer()\n",
    "device = torch.device('cuda' if torch.cuda.is_available() else 'cpu')"
   ]
  },
  {
   "cell_type": "code",
   "execution_count": 5,
   "id": "d4da4aec",
   "metadata": {},
   "outputs": [],
   "source": [
    "def split_with_sepreformer(input):\n",
    "    input = torch.Tensor(input).to(device)\n",
    "    spk1, spk2 = np.array(sepreformer(input))\n",
    "    return spk1, spk2"
   ]
  },
  {
   "cell_type": "code",
   "execution_count": 6,
   "id": "f932f89f",
   "metadata": {},
   "outputs": [
    {
     "name": "stderr",
     "output_type": "stream",
     "text": [
      "100%|██████████| 1000/1000 [14:26<00:00,  1.15it/s]\n"
     ]
    }
   ],
   "source": [
    "sepreformer_time = split_with_function('sepreformer', split_with_sepreformer, n=1000, sr=8000)"
   ]
  },
  {
   "cell_type": "code",
   "execution_count": 7,
   "id": "905aedf1",
   "metadata": {},
   "outputs": [
    {
     "name": "stdout",
     "output_type": "stream",
     "text": [
      "SepReformer time: 0.8386903082000208\n"
     ]
    }
   ],
   "source": [
    "print(f'SepReformer time: {sepreformer_time}')"
   ]
  },
  {
   "cell_type": "markdown",
   "id": "0711eb46",
   "metadata": {},
   "source": [
    "### Fast-GeCo"
   ]
  },
  {
   "cell_type": "code",
   "execution_count": 5,
   "id": "998cc78f",
   "metadata": {},
   "outputs": [
    {
     "name": "stderr",
     "output_type": "stream",
     "text": [
      "c:\\Studia\\Master_Thesis\\src\\fastgeco\\fastgeco.py:65: FutureWarning: You are using `torch.load` with `weights_only=False` (the current default value), which uses the default pickle module implicitly. It is possible to construct malicious pickle data which will execute arbitrary code during unpickling (See https://github.com/pytorch/pytorch/blob/main/SECURITY.md#untrusted-models for more details). In a future release, the default value for `weights_only` will be flipped to `True`. This limits the functions that could be executed during unpickling. Arbitrary objects will no longer be allowed to be loaded via this mode unless they are explicitly allowlisted by the user via `torch.serialization.add_safe_globals`. We recommend you start setting `weights_only=True` for any use case where you don't have full control of the loaded file. Please open an issue on GitHub for any issues related to this experimental feature.\n",
      "  encoder_weights = torch.load(os.path.join(ckpt_path, 'encoder.ckpt'))\n",
      "c:\\Studia\\Master_Thesis\\src\\fastgeco\\fastgeco.py:67: FutureWarning: You are using `torch.load` with `weights_only=False` (the current default value), which uses the default pickle module implicitly. It is possible to construct malicious pickle data which will execute arbitrary code during unpickling (See https://github.com/pytorch/pytorch/blob/main/SECURITY.md#untrusted-models for more details). In a future release, the default value for `weights_only` will be flipped to `True`. This limits the functions that could be executed during unpickling. Arbitrary objects will no longer be allowed to be loaded via this mode unless they are explicitly allowlisted by the user via `torch.serialization.add_safe_globals`. We recommend you start setting `weights_only=True` for any use case where you don't have full control of the loaded file. Please open an issue on GitHub for any issues related to this experimental feature.\n",
      "  masknet_weights = torch.load(os.path.join(ckpt_path, 'masknet.ckpt'))\n",
      "c:\\Studia\\Master_Thesis\\src\\fastgeco\\fastgeco.py:69: FutureWarning: You are using `torch.load` with `weights_only=False` (the current default value), which uses the default pickle module implicitly. It is possible to construct malicious pickle data which will execute arbitrary code during unpickling (See https://github.com/pytorch/pytorch/blob/main/SECURITY.md#untrusted-models for more details). In a future release, the default value for `weights_only` will be flipped to `True`. This limits the functions that could be executed during unpickling. Arbitrary objects will no longer be allowed to be loaded via this mode unless they are explicitly allowlisted by the user via `torch.serialization.add_safe_globals`. We recommend you start setting `weights_only=True` for any use case where you don't have full control of the loaded file. Please open an issue on GitHub for any issues related to this experimental feature.\n",
      "  decoder_weights = torch.load(os.path.join(ckpt_path, 'decoder.ckpt'))\n",
      "c:\\Studia\\.conda\\Lib\\inspect.py:988: UserWarning: Module 'speechbrain.pretrained' was deprecated, redirecting to 'speechbrain.inference'. Please update your script. This is a change from SpeechBrain 1.0. See: https://github.com/speechbrain/speechbrain/releases/tag/v1.0.0\n",
      "  if ismodule(module) and hasattr(module, '__file__'):\n",
      "Lightning automatically upgraded your loaded checkpoint from v1.5.10 to v2.4.0. To apply the upgrade to your files permanently, run `python -m pytorch_lightning.utilities.upgrade_checkpoint c:\\Studia\\Master_Thesis\\src\\fastgeco\\Fast-GeCo\\checkpoints\\fastgeco.ckpt`\n"
     ]
    }
   ],
   "source": [
    "from src.fastgeco.fastgeco import GeCo\n",
    "\n",
    "fastgeco = GeCo('src/fastgeco/Fast-GeCo/checkpoints')\n",
    "device = torch.device('cuda' if torch.cuda.is_available() else 'cpu')"
   ]
  },
  {
   "cell_type": "code",
   "execution_count": 6,
   "id": "d1822006",
   "metadata": {},
   "outputs": [],
   "source": [
    "def split_with_fastgeco(input):\n",
    "    input = torch.Tensor(input).unsqueeze(0).to(device)\n",
    "    spk1, spk2 = fastgeco(input)\n",
    "    return np.array(spk1.cpu()), np.array(spk2.cpu())"
   ]
  },
  {
   "cell_type": "code",
   "execution_count": 7,
   "id": "862f766e",
   "metadata": {},
   "outputs": [
    {
     "name": "stderr",
     "output_type": "stream",
     "text": [
      "100%|██████████| 1000/1000 [24:11<00:00,  1.45s/it]\n"
     ]
    }
   ],
   "source": [
    "fastgeco_time = split_with_function('fastgeco', split_with_fastgeco, n=1000, sr=8000)"
   ]
  },
  {
   "cell_type": "code",
   "execution_count": 8,
   "id": "2f20f4f1",
   "metadata": {},
   "outputs": [
    {
     "name": "stdout",
     "output_type": "stream",
     "text": [
      "Fast-GeCo time: 1.4423784811999358\n"
     ]
    }
   ],
   "source": [
    "print(f'Fast-GeCo time: {fastgeco_time}')"
   ]
  },
  {
   "cell_type": "markdown",
   "id": "690f8ae3",
   "metadata": {},
   "source": [
    "# Mierzenie metryk"
   ]
  },
  {
   "cell_type": "code",
   "execution_count": 1,
   "id": "48e937e4",
   "metadata": {},
   "outputs": [],
   "source": [
    "from src.metrics import calculate_metrics"
   ]
  },
  {
   "cell_type": "code",
   "execution_count": 2,
   "id": "d302fcdd",
   "metadata": {},
   "outputs": [],
   "source": [
    "import pandas as pd\n",
    "import torch"
   ]
  },
  {
   "cell_type": "code",
   "execution_count": 3,
   "id": "42d4f649",
   "metadata": {},
   "outputs": [],
   "source": [
    "ref_files1 = [f'data/2mix/speaker1/{i}.wav' for i in range(1000)]\n",
    "ref_files2 = [f'data/2mix/speaker2/{i}.wav' for i in range(1000)]\n",
    "mixed_files = [f'data/2mix/mixed/{i}.wav' for i in range(1000)]\n",
    "\n",
    "est_files1 = {model: [f'data/2mix/{model}/speaker1/{i}.wav' for i in range(1000)] for model in ['mossformer2', 'sepreformer', 'fastgeco']}\n",
    "est_files2 = {model: [f'data/2mix/{model}/speaker2/{i}.wav' for i in range(1000)] for model in ['mossformer2', 'sepreformer', 'fastgeco']}\n",
    "\n",
    "texts_df = pd.read_csv('data/2mix/texts.csv')\n",
    "texts1 = list(texts_df['text1'])\n",
    "texts2 = list(texts_df['text2'])"
   ]
  },
  {
   "cell_type": "code",
   "execution_count": 5,
   "id": "3cc7785c",
   "metadata": {},
   "outputs": [
    {
     "name": "stderr",
     "output_type": "stream",
     "text": [
      "c:\\Studia\\.conda\\Lib\\site-packages\\whisper\\__init__.py:150: FutureWarning: You are using `torch.load` with `weights_only=False` (the current default value), which uses the default pickle module implicitly. It is possible to construct malicious pickle data which will execute arbitrary code during unpickling (See https://github.com/pytorch/pytorch/blob/main/SECURITY.md#untrusted-models for more details). In a future release, the default value for `weights_only` will be flipped to `True`. This limits the functions that could be executed during unpickling. Arbitrary objects will no longer be allowed to be loaded via this mode unless they are explicitly allowlisted by the user via `torch.serialization.add_safe_globals`. We recommend you start setting `weights_only=True` for any use case where you don't have full control of the loaded file. Please open an issue on GitHub for any issues related to this experimental feature.\n",
      "  checkpoint = torch.load(fp, map_location=device)\n"
     ]
    }
   ],
   "source": [
    "import whisper\n",
    "\n",
    "device = torch.device('cuda' if torch.cuda.is_available() else 'cpu')\n",
    "transcription_model = whisper.load_model(\"turbo\", device=device)"
   ]
  },
  {
   "cell_type": "code",
   "execution_count": 13,
   "id": "6bbd77da",
   "metadata": {},
   "outputs": [
    {
     "name": "stderr",
     "output_type": "stream",
     "text": [
      "100%|██████████| 1000/1000 [00:01<00:00, 946.07it/s]\n",
      "100%|██████████| 1000/1000 [1:09:10<00:00,  4.15s/it]\n"
     ]
    }
   ],
   "source": [
    "results_spk1 = calculate_metrics(ref_files1, est_files1, mixed_files,\n",
    "                                 sr=16000, texts=texts1, transcription_model=transcription_model)"
   ]
  },
  {
   "cell_type": "code",
   "execution_count": 14,
   "id": "dbdcfda2",
   "metadata": {},
   "outputs": [
    {
     "data": {
      "text/html": [
       "<div>\n",
       "<style scoped>\n",
       "    .dataframe tbody tr th:only-of-type {\n",
       "        vertical-align: middle;\n",
       "    }\n",
       "\n",
       "    .dataframe tbody tr th {\n",
       "        vertical-align: top;\n",
       "    }\n",
       "\n",
       "    .dataframe thead th {\n",
       "        text-align: right;\n",
       "    }\n",
       "</style>\n",
       "<table border=\"1\" class=\"dataframe\">\n",
       "  <thead>\n",
       "    <tr style=\"text-align: right;\">\n",
       "      <th></th>\n",
       "      <th>SI-SDR</th>\n",
       "      <th>MCD</th>\n",
       "      <th>SDR</th>\n",
       "      <th>SIM</th>\n",
       "      <th>PESQ</th>\n",
       "      <th>SDRi</th>\n",
       "      <th>WER</th>\n",
       "      <th>CER</th>\n",
       "      <th>SI-SDRi</th>\n",
       "      <th>STOI</th>\n",
       "    </tr>\n",
       "  </thead>\n",
       "  <tbody>\n",
       "    <tr>\n",
       "      <th>mossformer2</th>\n",
       "      <td>18.029698</td>\n",
       "      <td>1.129666</td>\n",
       "      <td>17.921039</td>\n",
       "      <td>0.997427</td>\n",
       "      <td>2.971800</td>\n",
       "      <td>21.776397</td>\n",
       "      <td>0.006500</td>\n",
       "      <td>0.003352</td>\n",
       "      <td>23.363458</td>\n",
       "      <td>0.976391</td>\n",
       "    </tr>\n",
       "    <tr>\n",
       "      <th>sepreformer</th>\n",
       "      <td>-5.443266</td>\n",
       "      <td>7.884259</td>\n",
       "      <td>-3.655967</td>\n",
       "      <td>0.705213</td>\n",
       "      <td>1.204853</td>\n",
       "      <td>0.199391</td>\n",
       "      <td>0.502250</td>\n",
       "      <td>0.405541</td>\n",
       "      <td>-0.109506</td>\n",
       "      <td>0.663606</td>\n",
       "    </tr>\n",
       "    <tr>\n",
       "      <th>fastgeco</th>\n",
       "      <td>10.886481</td>\n",
       "      <td>2.773467</td>\n",
       "      <td>10.958125</td>\n",
       "      <td>0.969844</td>\n",
       "      <td>1.893670</td>\n",
       "      <td>14.813482</td>\n",
       "      <td>0.064208</td>\n",
       "      <td>0.036664</td>\n",
       "      <td>16.220241</td>\n",
       "      <td>0.937498</td>\n",
       "    </tr>\n",
       "  </tbody>\n",
       "</table>\n",
       "</div>"
      ],
      "text/plain": [
       "                SI-SDR       MCD        SDR       SIM      PESQ       SDRi  \\\n",
       "mossformer2  18.029698  1.129666  17.921039  0.997427  2.971800  21.776397   \n",
       "sepreformer  -5.443266  7.884259  -3.655967  0.705213  1.204853   0.199391   \n",
       "fastgeco     10.886481  2.773467  10.958125  0.969844  1.893670  14.813482   \n",
       "\n",
       "                  WER       CER    SI-SDRi      STOI  \n",
       "mossformer2  0.006500  0.003352  23.363458  0.976391  \n",
       "sepreformer  0.502250  0.405541  -0.109506  0.663606  \n",
       "fastgeco     0.064208  0.036664  16.220241  0.937498  "
      ]
     },
     "execution_count": 14,
     "metadata": {},
     "output_type": "execute_result"
    }
   ],
   "source": [
    "import json\n",
    "import pandas as pd\n",
    "\n",
    "with open('results_spk1_16kHz.json', 'w') as json_file:\n",
    "    json.dump(results_spk1, json_file, indent=4)\n",
    "\n",
    "results_df = pd.DataFrame.from_dict(results_spk1, orient='index')\n",
    "results_df"
   ]
  },
  {
   "cell_type": "code",
   "execution_count": 6,
   "id": "2af6a325",
   "metadata": {},
   "outputs": [
    {
     "name": "stderr",
     "output_type": "stream",
     "text": [
      "100%|██████████| 1000/1000 [00:03<00:00, 279.61it/s]\n",
      "100%|██████████| 1000/1000 [1:16:57<00:00,  4.62s/it]\n"
     ]
    }
   ],
   "source": [
    "results_spk1_8k = calculate_metrics(ref_files1, est_files1, mixed_files,\n",
    "                                 sr=8000, texts=texts1, transcription_model=transcription_model)"
   ]
  },
  {
   "cell_type": "code",
   "execution_count": 7,
   "id": "28a35670",
   "metadata": {},
   "outputs": [
    {
     "data": {
      "text/html": [
       "<div>\n",
       "<style scoped>\n",
       "    .dataframe tbody tr th:only-of-type {\n",
       "        vertical-align: middle;\n",
       "    }\n",
       "\n",
       "    .dataframe tbody tr th {\n",
       "        vertical-align: top;\n",
       "    }\n",
       "\n",
       "    .dataframe thead th {\n",
       "        text-align: right;\n",
       "    }\n",
       "</style>\n",
       "<table border=\"1\" class=\"dataframe\">\n",
       "  <thead>\n",
       "    <tr style=\"text-align: right;\">\n",
       "      <th></th>\n",
       "      <th>CER</th>\n",
       "      <th>SIM</th>\n",
       "      <th>SI-SDR</th>\n",
       "      <th>MCD</th>\n",
       "      <th>SDRi</th>\n",
       "      <th>SDR</th>\n",
       "      <th>WER</th>\n",
       "      <th>SI-SDRi</th>\n",
       "      <th>STOI</th>\n",
       "      <th>PESQ</th>\n",
       "    </tr>\n",
       "  </thead>\n",
       "  <tbody>\n",
       "    <tr>\n",
       "      <th>mossformer2</th>\n",
       "      <td>0.004648</td>\n",
       "      <td>0.996549</td>\n",
       "      <td>19.358690</td>\n",
       "      <td>1.129666</td>\n",
       "      <td>23.122032</td>\n",
       "      <td>19.194258</td>\n",
       "      <td>0.009500</td>\n",
       "      <td>24.766047</td>\n",
       "      <td>0.976239</td>\n",
       "      <td>3.263695</td>\n",
       "    </tr>\n",
       "    <tr>\n",
       "      <th>sepreformer</th>\n",
       "      <td>0.406180</td>\n",
       "      <td>0.704465</td>\n",
       "      <td>-5.201490</td>\n",
       "      <td>7.884259</td>\n",
       "      <td>0.194192</td>\n",
       "      <td>-3.733581</td>\n",
       "      <td>0.503250</td>\n",
       "      <td>0.205868</td>\n",
       "      <td>0.662982</td>\n",
       "      <td>1.269351</td>\n",
       "    </tr>\n",
       "    <tr>\n",
       "      <th>fastgeco</th>\n",
       "      <td>0.036664</td>\n",
       "      <td>0.969844</td>\n",
       "      <td>14.315315</td>\n",
       "      <td>2.773467</td>\n",
       "      <td>17.861085</td>\n",
       "      <td>13.933312</td>\n",
       "      <td>0.064208</td>\n",
       "      <td>19.722672</td>\n",
       "      <td>0.940168</td>\n",
       "      <td>2.434325</td>\n",
       "    </tr>\n",
       "  </tbody>\n",
       "</table>\n",
       "</div>"
      ],
      "text/plain": [
       "                  CER       SIM     SI-SDR       MCD       SDRi        SDR  \\\n",
       "mossformer2  0.004648  0.996549  19.358690  1.129666  23.122032  19.194258   \n",
       "sepreformer  0.406180  0.704465  -5.201490  7.884259   0.194192  -3.733581   \n",
       "fastgeco     0.036664  0.969844  14.315315  2.773467  17.861085  13.933312   \n",
       "\n",
       "                  WER    SI-SDRi      STOI      PESQ  \n",
       "mossformer2  0.009500  24.766047  0.976239  3.263695  \n",
       "sepreformer  0.503250   0.205868  0.662982  1.269351  \n",
       "fastgeco     0.064208  19.722672  0.940168  2.434325  "
      ]
     },
     "execution_count": 7,
     "metadata": {},
     "output_type": "execute_result"
    }
   ],
   "source": [
    "import json\n",
    "import pandas as pd\n",
    "\n",
    "with open('results_spk1_8kHz.json', 'w') as json_file:\n",
    "    json.dump(results_spk1_8k, json_file, indent=4)\n",
    "\n",
    "results_df = pd.DataFrame.from_dict(results_spk1_8k, orient='index')\n",
    "results_df"
   ]
  },
  {
   "cell_type": "code",
   "execution_count": 8,
   "id": "43565faf",
   "metadata": {},
   "outputs": [
    {
     "name": "stderr",
     "output_type": "stream",
     "text": [
      "100%|██████████| 1000/1000 [00:01<00:00, 980.61it/s]\n",
      "100%|██████████| 1000/1000 [1:16:28<00:00,  4.59s/it]\n"
     ]
    }
   ],
   "source": [
    "results_spk2 = calculate_metrics(ref_files2, est_files2, mixed_files,\n",
    "                                 sr=16000, texts=texts2, transcription_model=transcription_model)"
   ]
  },
  {
   "cell_type": "code",
   "execution_count": 9,
   "id": "31bcdb28",
   "metadata": {},
   "outputs": [
    {
     "data": {
      "text/html": [
       "<div>\n",
       "<style scoped>\n",
       "    .dataframe tbody tr th:only-of-type {\n",
       "        vertical-align: middle;\n",
       "    }\n",
       "\n",
       "    .dataframe tbody tr th {\n",
       "        vertical-align: top;\n",
       "    }\n",
       "\n",
       "    .dataframe thead th {\n",
       "        text-align: right;\n",
       "    }\n",
       "</style>\n",
       "<table border=\"1\" class=\"dataframe\">\n",
       "  <thead>\n",
       "    <tr style=\"text-align: right;\">\n",
       "      <th></th>\n",
       "      <th>CER</th>\n",
       "      <th>SIM</th>\n",
       "      <th>SI-SDR</th>\n",
       "      <th>MCD</th>\n",
       "      <th>SDRi</th>\n",
       "      <th>SDR</th>\n",
       "      <th>WER</th>\n",
       "      <th>SI-SDRi</th>\n",
       "      <th>STOI</th>\n",
       "      <th>PESQ</th>\n",
       "    </tr>\n",
       "  </thead>\n",
       "  <tbody>\n",
       "    <tr>\n",
       "      <th>mossformer2</th>\n",
       "      <td>0.000069</td>\n",
       "      <td>0.999960</td>\n",
       "      <td>23.275609</td>\n",
       "      <td>0.924550</td>\n",
       "      <td>16.558932</td>\n",
       "      <td>22.740280</td>\n",
       "      <td>0.000250</td>\n",
       "      <td>17.948322</td>\n",
       "      <td>0.991391</td>\n",
       "      <td>3.710053</td>\n",
       "    </tr>\n",
       "    <tr>\n",
       "      <th>sepreformer</th>\n",
       "      <td>0.470920</td>\n",
       "      <td>0.715802</td>\n",
       "      <td>1.572594</td>\n",
       "      <td>8.008774</td>\n",
       "      <td>-8.097942</td>\n",
       "      <td>-1.916594</td>\n",
       "      <td>0.582562</td>\n",
       "      <td>-3.754693</td>\n",
       "      <td>0.716087</td>\n",
       "      <td>1.369325</td>\n",
       "    </tr>\n",
       "    <tr>\n",
       "      <th>fastgeco</th>\n",
       "      <td>0.002046</td>\n",
       "      <td>0.998683</td>\n",
       "      <td>14.232491</td>\n",
       "      <td>3.242107</td>\n",
       "      <td>7.651517</td>\n",
       "      <td>13.832865</td>\n",
       "      <td>0.004313</td>\n",
       "      <td>8.905204</td>\n",
       "      <td>0.967227</td>\n",
       "      <td>2.431882</td>\n",
       "    </tr>\n",
       "  </tbody>\n",
       "</table>\n",
       "</div>"
      ],
      "text/plain": [
       "                  CER       SIM     SI-SDR       MCD       SDRi        SDR  \\\n",
       "mossformer2  0.000069  0.999960  23.275609  0.924550  16.558932  22.740280   \n",
       "sepreformer  0.470920  0.715802   1.572594  8.008774  -8.097942  -1.916594   \n",
       "fastgeco     0.002046  0.998683  14.232491  3.242107   7.651517  13.832865   \n",
       "\n",
       "                  WER    SI-SDRi      STOI      PESQ  \n",
       "mossformer2  0.000250  17.948322  0.991391  3.710053  \n",
       "sepreformer  0.582562  -3.754693  0.716087  1.369325  \n",
       "fastgeco     0.004313   8.905204  0.967227  2.431882  "
      ]
     },
     "execution_count": 9,
     "metadata": {},
     "output_type": "execute_result"
    }
   ],
   "source": [
    "import json\n",
    "import pandas as pd\n",
    "\n",
    "with open('results_spk2_16kHz.json', 'w') as json_file:\n",
    "    json.dump(results_spk2, json_file, indent=4)\n",
    "\n",
    "results_df = pd.DataFrame.from_dict(results_spk2, orient='index')\n",
    "results_df"
   ]
  },
  {
   "cell_type": "code",
   "execution_count": 10,
   "id": "5daf8e84",
   "metadata": {},
   "outputs": [
    {
     "name": "stderr",
     "output_type": "stream",
     "text": [
      "100%|██████████| 1000/1000 [00:02<00:00, 376.27it/s]\n",
      "100%|██████████| 1000/1000 [1:16:37<00:00,  4.60s/it]\n"
     ]
    }
   ],
   "source": [
    "results_spk2_8k = calculate_metrics(ref_files2, est_files2, mixed_files,\n",
    "                                 sr=8000, texts=texts2, transcription_model=transcription_model)"
   ]
  },
  {
   "cell_type": "code",
   "execution_count": 11,
   "id": "4b9a2ff4",
   "metadata": {},
   "outputs": [
    {
     "data": {
      "text/html": [
       "<div>\n",
       "<style scoped>\n",
       "    .dataframe tbody tr th:only-of-type {\n",
       "        vertical-align: middle;\n",
       "    }\n",
       "\n",
       "    .dataframe tbody tr th {\n",
       "        vertical-align: top;\n",
       "    }\n",
       "\n",
       "    .dataframe thead th {\n",
       "        text-align: right;\n",
       "    }\n",
       "</style>\n",
       "<table border=\"1\" class=\"dataframe\">\n",
       "  <thead>\n",
       "    <tr style=\"text-align: right;\">\n",
       "      <th></th>\n",
       "      <th>CER</th>\n",
       "      <th>SIM</th>\n",
       "      <th>SI-SDR</th>\n",
       "      <th>MCD</th>\n",
       "      <th>SDRi</th>\n",
       "      <th>SDR</th>\n",
       "      <th>WER</th>\n",
       "      <th>SI-SDRi</th>\n",
       "      <th>STOI</th>\n",
       "      <th>PESQ</th>\n",
       "    </tr>\n",
       "  </thead>\n",
       "  <tbody>\n",
       "    <tr>\n",
       "      <th>mossformer2</th>\n",
       "      <td>0.000011</td>\n",
       "      <td>0.999994</td>\n",
       "      <td>24.749967</td>\n",
       "      <td>0.924550</td>\n",
       "      <td>17.752468</td>\n",
       "      <td>23.997347</td>\n",
       "      <td>0.000063</td>\n",
       "      <td>19.349058</td>\n",
       "      <td>0.990359</td>\n",
       "      <td>3.857428</td>\n",
       "    </tr>\n",
       "    <tr>\n",
       "      <th>sepreformer</th>\n",
       "      <td>0.470839</td>\n",
       "      <td>0.716170</td>\n",
       "      <td>1.892908</td>\n",
       "      <td>8.008774</td>\n",
       "      <td>-8.163492</td>\n",
       "      <td>-1.918614</td>\n",
       "      <td>0.582500</td>\n",
       "      <td>-3.508000</td>\n",
       "      <td>0.719825</td>\n",
       "      <td>1.503330</td>\n",
       "    </tr>\n",
       "    <tr>\n",
       "      <th>fastgeco</th>\n",
       "      <td>0.002046</td>\n",
       "      <td>0.998683</td>\n",
       "      <td>19.525170</td>\n",
       "      <td>3.242107</td>\n",
       "      <td>11.789016</td>\n",
       "      <td>18.033894</td>\n",
       "      <td>0.004313</td>\n",
       "      <td>14.124261</td>\n",
       "      <td>0.975052</td>\n",
       "      <td>3.298651</td>\n",
       "    </tr>\n",
       "  </tbody>\n",
       "</table>\n",
       "</div>"
      ],
      "text/plain": [
       "                  CER       SIM     SI-SDR       MCD       SDRi        SDR  \\\n",
       "mossformer2  0.000011  0.999994  24.749967  0.924550  17.752468  23.997347   \n",
       "sepreformer  0.470839  0.716170   1.892908  8.008774  -8.163492  -1.918614   \n",
       "fastgeco     0.002046  0.998683  19.525170  3.242107  11.789016  18.033894   \n",
       "\n",
       "                  WER    SI-SDRi      STOI      PESQ  \n",
       "mossformer2  0.000063  19.349058  0.990359  3.857428  \n",
       "sepreformer  0.582500  -3.508000  0.719825  1.503330  \n",
       "fastgeco     0.004313  14.124261  0.975052  3.298651  "
      ]
     },
     "execution_count": 11,
     "metadata": {},
     "output_type": "execute_result"
    }
   ],
   "source": [
    "import json\n",
    "import pandas as pd\n",
    "\n",
    "with open('results_spk2_8kHz.json', 'w') as json_file:\n",
    "    json.dump(results_spk2_8k, json_file, indent=4)\n",
    "\n",
    "results_df = pd.DataFrame.from_dict(results_spk2_8k, orient='index')\n",
    "results_df"
   ]
  },
  {
   "cell_type": "code",
   "execution_count": 6,
   "id": "88b70584",
   "metadata": {},
   "outputs": [],
   "source": [
    "import librosa\n",
    "for file in mixed_files:\n",
    "    try:\n",
    "        data, sr = librosa.load(file, sr=16000, mono=True)\n",
    "    except Exception as e:\n",
    "        print(f\"{file}\")"
   ]
  },
  {
   "cell_type": "code",
   "execution_count": 14,
   "id": "baf2f685",
   "metadata": {},
   "outputs": [],
   "source": [
    "import librosa\n",
    "for file in est_files1['fastgeco']:\n",
    "    try:\n",
    "        data, sr = librosa.load(file, sr=16000, mono=True)\n",
    "    except Exception as e:\n",
    "        print(f\"{file}\")"
   ]
  }
 ],
 "metadata": {
  "kernelspec": {
   "display_name": "Python 3",
   "language": "python",
   "name": "python3"
  },
  "language_info": {
   "codemirror_mode": {
    "name": "ipython",
    "version": 3
   },
   "file_extension": ".py",
   "mimetype": "text/x-python",
   "name": "python",
   "nbconvert_exporter": "python",
   "pygments_lexer": "ipython3",
   "version": "3.11.9"
  }
 },
 "nbformat": 4,
 "nbformat_minor": 5
}
